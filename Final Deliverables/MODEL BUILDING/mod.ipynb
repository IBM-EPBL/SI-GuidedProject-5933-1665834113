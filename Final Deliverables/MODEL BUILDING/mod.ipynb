{
  "cells": [
    {
      "cell_type": "markdown",
      "source": [
        "Image Preprocessing"
      ],
      "metadata": {
        "id": "Hsj0_C0Cp7dF"
      },
      "id": "Hsj0_C0Cp7dF"
    },
    {
      "cell_type": "code",
      "execution_count": null,
      "id": "1d9fed6b",
      "metadata": {
        "id": "1d9fed6b"
      },
      "outputs": [],
      "source": [
        "from keras.preprocessing.image import ImageDataGenerator\n",
        "home_path = r'E:/IBM project/Dataset/'"
      ]
    },
    {
      "cell_type": "code",
      "execution_count": null,
      "id": "73b8d43c",
      "metadata": {
        "id": "73b8d43c"
      },
      "outputs": [],
      "source": [
        "train_data = ImageDataGenerator(rescale=1./255, shear_range=0.2, zoom_range=0.2, horizontal_flip=True)\n",
        "test_data = ImageDataGenerator(rescale=1./255)"
      ]
    },
    {
      "cell_type": "code",
      "execution_count": null,
      "id": "fbcfbf3e-7ff1-49bf-b50a-65c01f363897",
      "metadata": {
        "id": "fbcfbf3e-7ff1-49bf-b50a-65c01f363897",
        "outputId": "e8215c5f-b3d3-4f7a-966d-11e381bef995"
      },
      "outputs": [
        {
          "name": "stdout",
          "output_type": "stream",
          "text": [
            "Found 15341 images belonging to 6 classes.\n",
            "Found 6825 images belonging to 6 classes.\n"
          ]
        }
      ],
      "source": [
        "x_train = train_data.flow_from_directory(directory = home_path + r'/train/', target_size=(64,64), batch_size=32, class_mode='categorical')\n",
        "x_test = test_data.flow_from_directory(directory = home_path + r'/test/', target_size=(64,64), batch_size=32, class_mode='categorical')"
      ]
    },
    {
      "cell_type": "code",
      "execution_count": null,
      "id": "2c3fbef5-c472-4c87-bb7c-714b1e42f9ad",
      "metadata": {
        "id": "2c3fbef5-c472-4c87-bb7c-714b1e42f9ad",
        "outputId": "5288994e-b72d-458e-c114-345c5e546ed1"
      },
      "outputs": [
        {
          "data": {
            "text/plain": [
              "{'Left Bundle Branch Block': 0,\n",
              " 'Normal': 1,\n",
              " 'Premature Atrial Contraction': 2,\n",
              " 'Premature Ventricular Contractions': 3,\n",
              " 'Right Bundle Branch Block': 4,\n",
              " 'Ventricular Fibrillation': 5}"
            ]
          },
          "execution_count": 26,
          "metadata": {},
          "output_type": "execute_result"
        }
      ],
      "source": [
        "x_train.class_indices"
      ]
    },
    {
      "cell_type": "markdown",
      "source": [
        "Importing Libraries"
      ],
      "metadata": {
        "id": "bhSl9MXHqSjV"
      },
      "id": "bhSl9MXHqSjV"
    },
    {
      "cell_type": "code",
      "execution_count": null,
      "id": "85dc1f9b-ea11-479b-9819-f42e7dfed67b",
      "metadata": {
        "tags": [],
        "id": "85dc1f9b-ea11-479b-9819-f42e7dfed67b"
      },
      "outputs": [],
      "source": [
        "from tensorflow.keras.models import Sequential\n",
        "from tensorflow.keras.layers import Dense\n",
        "from tensorflow.keras.layers import Convolution2D\n",
        "from tensorflow.keras.layers import MaxPooling2D\n",
        "from tensorflow.keras.layers import Flatten"
      ]
    },
    {
      "cell_type": "markdown",
      "source": [
        "Initializing the Model"
      ],
      "metadata": {
        "id": "riS1lFMYqniQ"
      },
      "id": "riS1lFMYqniQ"
    },
    {
      "cell_type": "code",
      "execution_count": null,
      "id": "680438de-62aa-411a-8a4b-659b9e8ac655",
      "metadata": {
        "id": "680438de-62aa-411a-8a4b-659b9e8ac655"
      },
      "outputs": [],
      "source": [
        "model = Sequential()"
      ]
    },
    {
      "cell_type": "markdown",
      "source": [
        "Adding CNN Layers"
      ],
      "metadata": {
        "id": "uOhzVnukqrmD"
      },
      "id": "uOhzVnukqrmD"
    },
    {
      "cell_type": "code",
      "execution_count": null,
      "id": "2b2db023-9df4-4054-ad34-f3beb12dc49b",
      "metadata": {
        "id": "2b2db023-9df4-4054-ad34-f3beb12dc49b"
      },
      "outputs": [],
      "source": [
        "model.add(Convolution2D(32,(3,3),input_shape = (64,64,3),activation = \"relu\"))"
      ]
    },
    {
      "cell_type": "code",
      "execution_count": null,
      "id": "70bfa1bf-7eb5-453f-87df-bef56870a10e",
      "metadata": {
        "id": "70bfa1bf-7eb5-453f-87df-bef56870a10e"
      },
      "outputs": [],
      "source": [
        "model.add(MaxPooling2D(pool_size = (2,2)))"
      ]
    },
    {
      "cell_type": "code",
      "execution_count": null,
      "id": "12dbf57a-d039-47e2-a6ec-fbdaf5f6719f",
      "metadata": {
        "id": "12dbf57a-d039-47e2-a6ec-fbdaf5f6719f"
      },
      "outputs": [],
      "source": [
        "model.add(Convolution2D(32,(3,3),activation='relu'))"
      ]
    },
    {
      "cell_type": "code",
      "execution_count": null,
      "id": "ee509826-d49d-4a56-98a7-fab7035b1b79",
      "metadata": {
        "id": "ee509826-d49d-4a56-98a7-fab7035b1b79"
      },
      "outputs": [],
      "source": [
        "model.add(MaxPooling2D(pool_size=(2,2)))\n"
      ]
    },
    {
      "cell_type": "code",
      "execution_count": null,
      "id": "3c082068-68b0-4538-a4c5-3fc276837944",
      "metadata": {
        "id": "3c082068-68b0-4538-a4c5-3fc276837944"
      },
      "outputs": [],
      "source": [
        "model.add(Flatten())"
      ]
    },
    {
      "cell_type": "code",
      "execution_count": null,
      "id": "7f7f33c6-2438-4778-a0b7-84661753f4cc",
      "metadata": {
        "id": "7f7f33c6-2438-4778-a0b7-84661753f4cc"
      },
      "outputs": [],
      "source": [
        "#Adding Dense Layers"
      ]
    },
    {
      "cell_type": "code",
      "execution_count": null,
      "id": "4f026956-0d6f-4b00-9234-259403f23162",
      "metadata": {
        "id": "4f026956-0d6f-4b00-9234-259403f23162"
      },
      "outputs": [],
      "source": [
        "model.add(Dense(units = 128,kernel_initializer = \"random_uniform\",activation = \"relu\"))\n"
      ]
    },
    {
      "cell_type": "code",
      "execution_count": null,
      "id": "827925e9-17fe-481a-aac5-b1faa63b3bdd",
      "metadata": {
        "id": "827925e9-17fe-481a-aac5-b1faa63b3bdd"
      },
      "outputs": [],
      "source": [
        "model.add(Dense(units = 128,kernel_initializer = \"random_uniform\",activation = \"relu\"))"
      ]
    },
    {
      "cell_type": "code",
      "execution_count": null,
      "id": "2d351c92-441e-4148-b7b7-f848dda6afe0",
      "metadata": {
        "id": "2d351c92-441e-4148-b7b7-f848dda6afe0"
      },
      "outputs": [],
      "source": [
        "model.add(Dense(units = 128,kernel_initializer = \"random_uniform\",activation = \"relu\"))"
      ]
    },
    {
      "cell_type": "code",
      "execution_count": null,
      "id": "0a3e1834-c522-4cdd-9a1a-483d3f93c4bb",
      "metadata": {
        "id": "0a3e1834-c522-4cdd-9a1a-483d3f93c4bb"
      },
      "outputs": [],
      "source": [
        "model.add(Dense(units = 128,kernel_initializer = \"random_uniform\",activation = \"relu\"))"
      ]
    },
    {
      "cell_type": "code",
      "execution_count": null,
      "id": "1a941745-e2f0-4ff4-a604-dbe9c80bd329",
      "metadata": {
        "id": "1a941745-e2f0-4ff4-a604-dbe9c80bd329"
      },
      "outputs": [],
      "source": [
        "model.add(Dense(units = 128,kernel_initializer = \"random_uniform\",activation = \"relu\"))"
      ]
    },
    {
      "cell_type": "code",
      "execution_count": null,
      "id": "dd5e7ffa-30e9-4753-bce1-c16afa1e73be",
      "metadata": {
        "id": "dd5e7ffa-30e9-4753-bce1-c16afa1e73be"
      },
      "outputs": [],
      "source": [
        "model.add(Dense(units = 6,kernel_initializer = \"random_uniform\",activation = \"softmax\"))"
      ]
    },
    {
      "cell_type": "code",
      "execution_count": null,
      "id": "15666d35-4101-40be-ae21-6d48a0dc1f3d",
      "metadata": {
        "id": "15666d35-4101-40be-ae21-6d48a0dc1f3d",
        "outputId": "3178a619-b4cf-44e5-e96a-9fc1622a272a"
      },
      "outputs": [
        {
          "name": "stdout",
          "output_type": "stream",
          "text": [
            "Model: \"sequential\"\n",
            "_________________________________________________________________\n",
            " Layer (type)                Output Shape              Param #   \n",
            "=================================================================\n",
            " conv2d (Conv2D)             (None, 62, 62, 32)        896       \n",
            "                                                                 \n",
            " max_pooling2d (MaxPooling2D  (None, 31, 31, 32)       0         \n",
            " )                                                               \n",
            "                                                                 \n",
            " conv2d_1 (Conv2D)           (None, 29, 29, 32)        9248      \n",
            "                                                                 \n",
            " max_pooling2d_1 (MaxPooling  (None, 14, 14, 32)       0         \n",
            " 2D)                                                             \n",
            "                                                                 \n",
            " flatten (Flatten)           (None, 6272)              0         \n",
            "                                                                 \n",
            " dense (Dense)               (None, 128)               802944    \n",
            "                                                                 \n",
            " dense_1 (Dense)             (None, 128)               16512     \n",
            "                                                                 \n",
            " dense_2 (Dense)             (None, 128)               16512     \n",
            "                                                                 \n",
            " dense_3 (Dense)             (None, 128)               16512     \n",
            "                                                                 \n",
            " dense_4 (Dense)             (None, 128)               16512     \n",
            "                                                                 \n",
            " dense_5 (Dense)             (None, 6)                 774       \n",
            "                                                                 \n",
            "=================================================================\n",
            "Total params: 879,910\n",
            "Trainable params: 879,910\n",
            "Non-trainable params: 0\n",
            "_________________________________________________________________\n"
          ]
        }
      ],
      "source": [
        "model.summary()"
      ]
    },
    {
      "cell_type": "markdown",
      "source": [
        "Configure the Learning Process"
      ],
      "metadata": {
        "id": "Pj2x_e0Rq9C8"
      },
      "id": "Pj2x_e0Rq9C8"
    },
    {
      "cell_type": "code",
      "execution_count": null,
      "id": "2f40b861-0894-4e01-9a4a-dbbe18ec9eab",
      "metadata": {
        "id": "2f40b861-0894-4e01-9a4a-dbbe18ec9eab"
      },
      "outputs": [],
      "source": [
        "model.compile(optimizer='adam',loss='categorical_crossentropy',metrics=['accuracy'])"
      ]
    },
    {
      "cell_type": "markdown",
      "source": [
        "Training the model"
      ],
      "metadata": {
        "id": "PbooY7QrrGrV"
      },
      "id": "PbooY7QrrGrV"
    },
    {
      "cell_type": "code",
      "execution_count": null,
      "id": "4cd7d985-04a7-48d5-b56e-4c2b4cbef720",
      "metadata": {
        "id": "4cd7d985-04a7-48d5-b56e-4c2b4cbef720",
        "outputId": "45114858-e024-4c36-fd12-3f89e44fcda0"
      },
      "outputs": [
        {
          "name": "stdout",
          "output_type": "stream",
          "text": [
            "Epoch 1/3\n"
          ]
        },
        {
          "name": "stderr",
          "output_type": "stream",
          "text": [
            "C:\\Users\\slaks\\AppData\\Local\\Temp/ipykernel_35256/318287306.py:1: UserWarning: `Model.fit_generator` is deprecated and will be removed in a future version. Please use `Model.fit`, which supports generators.\n",
            "  model.fit_generator(generator=x_train,steps_per_epoch = len(x_train), epochs=3, validation_data=x_test,validation_steps = len(x_test))\n"
          ]
        },
        {
          "name": "stdout",
          "output_type": "stream",
          "text": [
            "480/480 [==============================] - 249s 519ms/step - loss: 1.1194 - accuracy: 0.5638 - val_loss: 1.1833 - val_accuracy: 0.4421\n",
            "Epoch 2/3\n",
            "480/480 [==============================] - 85s 178ms/step - loss: 0.5511 - accuracy: 0.7900 - val_loss: 0.8991 - val_accuracy: 0.8064\n",
            "Epoch 3/3\n",
            "480/480 [==============================] - 78s 162ms/step - loss: 0.2468 - accuracy: 0.9252 - val_loss: 0.5509 - val_accuracy: 0.8415\n"
          ]
        },
        {
          "data": {
            "text/plain": [
              "<keras.callbacks.History at 0x29d80101460>"
            ]
          },
          "execution_count": 46,
          "metadata": {},
          "output_type": "execute_result"
        }
      ],
      "source": [
        "model.fit_generator(generator=x_train,steps_per_epoch = len(x_train), epochs=3, validation_data=x_test,validation_steps = len(x_test))"
      ]
    },
    {
      "cell_type": "markdown",
      "source": [
        "Saving the Model"
      ],
      "metadata": {
        "id": "_kFZcImorPDD"
      },
      "id": "_kFZcImorPDD"
    },
    {
      "cell_type": "code",
      "execution_count": null,
      "id": "83a0ede3-0088-45f4-b793-b013342a1127",
      "metadata": {
        "tags": [],
        "id": "83a0ede3-0088-45f4-b793-b013342a1127"
      },
      "outputs": [],
      "source": [
        "model.save('Arrhythmia.h5')"
      ]
    },
    {
      "cell_type": "code",
      "execution_count": null,
      "id": "a01e1d4e-6b37-4db2-97fe-e6581533f662",
      "metadata": {
        "id": "a01e1d4e-6b37-4db2-97fe-e6581533f662"
      },
      "outputs": [],
      "source": [
        "from tensorflow.keras.models import load_model\n",
        "from tensorflow.keras.preprocessing import image\n",
        "import numpy as np"
      ]
    },
    {
      "cell_type": "code",
      "execution_count": null,
      "id": "295bd0f6-3c96-4f88-8e34-ce0bbdf9947d",
      "metadata": {
        "id": "295bd0f6-3c96-4f88-8e34-ce0bbdf9947d"
      },
      "outputs": [],
      "source": [
        "model=load_model('Arrhythmia.h5')"
      ]
    },
    {
      "cell_type": "markdown",
      "source": [
        "Testing the Model"
      ],
      "metadata": {
        "id": "jT-fI0-irnaV"
      },
      "id": "jT-fI0-irnaV"
    },
    {
      "cell_type": "code",
      "execution_count": null,
      "id": "b674c2c5-425d-4a3c-943b-b8c6530c549f",
      "metadata": {
        "tags": [],
        "id": "b674c2c5-425d-4a3c-943b-b8c6530c549f",
        "outputId": "ee4b66bd-5237-4c9e-9a46-24d022a71608"
      },
      "outputs": [
        {
          "name": "stdout",
          "output_type": "stream",
          "text": [
            "1/1 [==============================] - 0s 273ms/step\n"
          ]
        },
        {
          "data": {
            "text/plain": [
              "'Premature Atrial Contraction'"
            ]
          },
          "execution_count": 56,
          "metadata": {},
          "output_type": "execute_result"
        }
      ],
      "source": [
        "img=image.load_img(\"Data/verificationPhoto.png\",target_size=(64,64))\n",
        "x=image.img_to_array(img)\n",
        "x=np.expand_dims(x,axis=0)\n",
        "pred = model.predict(x)\n",
        "y_pred=np.argmax(pred)\n",
        "classifications=['left Bundle Branch block',\n",
        "       'Normal',\n",
        "       'Premature Atrial Contraction',\n",
        "       'Premature Ventricular Contraction',\n",
        "       'Right Bundle Branch Block',\n",
        "       'Ventricular Fibrillation']\n",
        "result = str(classifications[y_pred])\n",
        "result"
      ]
    },
    {
      "cell_type": "code",
      "execution_count": null,
      "id": "fcc704a6-559e-40b6-bbac-898aa6841b6e",
      "metadata": {
        "id": "fcc704a6-559e-40b6-bbac-898aa6841b6e"
      },
      "outputs": [],
      "source": []
    }
  ],
  "metadata": {
    "kernelspec": {
      "display_name": "Python 3 (ipykernel)",
      "language": "python",
      "name": "python3"
    },
    "language_info": {
      "codemirror_mode": {
        "name": "ipython",
        "version": 3
      },
      "file_extension": ".py",
      "mimetype": "text/x-python",
      "name": "python",
      "nbconvert_exporter": "python",
      "pygments_lexer": "ipython3",
      "version": "3.9.7"
    },
    "colab": {
      "provenance": []
    }
  },
  "nbformat": 4,
  "nbformat_minor": 5
}